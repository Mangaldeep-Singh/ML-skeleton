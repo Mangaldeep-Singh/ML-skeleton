{
  "cells": [
    {
      "cell_type": "markdown",
      "metadata": {},
      "source": [
        "##### Purpose: notebook2\n##### Version: \n##### Creation date: Sun Jul 21 12:57:35 PM IST 2024\n##### Modified date: Sun Jul 21 12:57:35 PM IST 2024\n##### Author: Mangaldeep Singh"
      ]
    },
    {
      "cell_type": "code",
      "metadata": {},
      "source": [
        "print('This is a code cell added via a shell script.')"
      ]
    }
  ],
  "metadata": {},
  "nbformat": 4,
  "nbformat_minor": 5
}